{
 "cells": [
  {
   "cell_type": "markdown",
   "metadata": {},
   "source": [
    "So let's start importing all necessary files. For this recommender system based on BPR, we will use lightfm as our recommender."
   ]
  },
  {
   "cell_type": "code",
   "execution_count": 7,
   "metadata": {
    "collapsed": false
   },
   "outputs": [
    {
     "name": "stdout",
     "output_type": "stream",
     "text": [
      "hello\n"
     ]
    }
   ],
   "source": [
    "import random\n",
    "import numpy as np\n",
    "import pandas as pd\n",
    "import time\n",
    "import scipy.sparse as sparse\n",
    "from scipy.sparse.linalg import spsolve\n",
    "import operator\n",
    "import time\n",
    "import scipy as sp\n",
    "import scipy.stats\n",
    "import random\n",
    "from sklearn import metrics\n",
    "from lightfm import LightFM\n",
    "from lightfm.evaluation import precision_at_k\n",
    "from lightfm.evaluation import auc_score\n",
    "from lightfm.evaluation import reciprocal_rank\n",
    "from lightfm.cross_validation import random_train_test_split\n",
    "print('hello')\n"
   ]
  },
  {
   "cell_type": "markdown",
   "metadata": {
    "collapsed": false
   },
   "source": [
    "Let's import the data again, mind that lightfm works with sparse matrices instead of dense matrices, so we'll have to adjust our matrix-format."
   ]
  },
  {
   "cell_type": "code",
   "execution_count": 13,
   "metadata": {
    "collapsed": true
   },
   "outputs": [],
   "source": [
    "def load_matrix(filepath, num_users, num_items):\n",
    "    counts = np.zeros((num_users, num_items))\n",
    "    for i, line in enumerate(open(filepath, 'r')):\n",
    "        user, item, count = line.strip().split(',')\n",
    "        user = int(user)\n",
    "        item = int(item)\n",
    "        count = float(count)\n",
    "        counts[user][item] = count\n",
    "    return counts\n",
    "\n",
    "filepath = 'C:/Users/peter/Documents/uvt/implicit/finalxdata.csv'\n",
    "matrix2 = load_matrix(filepath, num_users = 6518, num_items = 4036)\n",
    "matrix2 = matrix2*40\n",
    "sparse_matrix = sparse.coo_matrix(matrix2)"
   ]
  },
  {
   "cell_type": "code",
   "execution_count": 69,
   "metadata": {
    "collapsed": false
   },
   "outputs": [
    {
     "name": "stdout",
     "output_type": "stream",
     "text": [
      "  (3996, 1548)\t80.0\n",
      "  (3637, 1579)\t80.0\n",
      "  (4256, 3508)\t80.0\n",
      "  (3051, 2522)\t40.0\n",
      "  (4187, 3528)\t80.0\n",
      "  (2224, 3018)\t40.0\n",
      "  (139, 2677)\t80.0\n",
      "  (2982, 2965)\t40.0\n",
      "  (6089, 3904)\t80.0\n",
      "  (5087, 3616)\t80.0\n",
      "  (2159, 3056)\t40.0\n",
      "  (3084, 3169)\t40.0\n",
      "  (3007, 2931)\t40.0\n",
      "  (6044, 1359)\t80.0\n",
      "  (217, 1054)\t120.0\n",
      "  (271, 1911)\t80.0\n",
      "  (949, 2302)\t40.0\n",
      "  (5319, 1071)\t80.0\n",
      "  (1388, 2193)\t40.0\n",
      "  (4745, 3496)\t80.0\n",
      "  (4023, 3373)\t160.0\n",
      "  (5986, 3485)\t120.0\n",
      "  (1109, 1462)\t40.0\n",
      "  (5327, 3516)\t80.0\n",
      "  (4756, 3591)\t80.0\n",
      "  :\t:\n",
      "  (865, 2171)\t40.0\n",
      "  (5933, 3260)\t80.0\n",
      "  (3956, 3528)\t80.0\n",
      "  (3381, 1788)\t40.0\n",
      "  (4807, 3536)\t80.0\n",
      "  (5788, 3850)\t80.0\n",
      "  (4636, 3580)\t80.0\n",
      "  (2040, 2946)\t40.0\n",
      "  (5037, 3590)\t80.0\n",
      "  (3079, 1242)\t40.0\n",
      "  (4424, 2910)\t80.0\n",
      "  (1772, 722)\t40.0\n",
      "  (2284, 3059)\t40.0\n",
      "  (555, 1914)\t80.0\n",
      "  (1608, 2620)\t40.0\n",
      "  (4890, 3550)\t80.0\n",
      "  (5391, 1850)\t80.0\n",
      "  (1451, 1306)\t40.0\n",
      "  (3428, 1553)\t40.0\n",
      "  (3288, 3340)\t40.0\n",
      "  (1875, 2833)\t40.0\n",
      "  (4362, 3452)\t80.0\n",
      "  (2654, 3028)\t40.0\n",
      "  (5473, 3287)\t80.0\n",
      "  (1389, 2858)\t40.0\n",
      "x\n",
      "  (5943, 3532)\t80.0\n",
      "  (1495, 1970)\t40.0\n",
      "  (38, 2758)\t80.0\n",
      "  (902, 2383)\t40.0\n",
      "  (904, 2296)\t40.0\n",
      "  (6014, 1508)\t80.0\n",
      "  (2239, 3089)\t40.0\n",
      "  (6084, 3455)\t80.0\n",
      "  (2492, 2113)\t40.0\n",
      "  (1960, 2833)\t40.0\n",
      "  (1866, 2878)\t40.0\n",
      "  (2993, 359)\t40.0\n",
      "  (3178, 3332)\t40.0\n",
      "  (3455, 3442)\t40.0\n",
      "  (6501, 3958)\t80.0\n",
      "  (993, 2440)\t40.0\n",
      "  (1447, 2036)\t40.0\n",
      "  (376, 2456)\t120.0\n",
      "  (3521, 3125)\t40.0\n",
      "  (1471, 2324)\t40.0\n",
      "  (747, 40)\t40.0\n",
      "  (3354, 3309)\t40.0\n",
      "  (798, 1224)\t40.0\n",
      "  (912, 2302)\t40.0\n",
      "  (5314, 3332)\t80.0\n",
      "  :\t:\n",
      "  (2777, 2867)\t40.0\n",
      "  (1067, 2448)\t40.0\n",
      "  (174, 1885)\t80.0\n",
      "  (914, 1843)\t40.0\n",
      "  (3453, 3191)\t40.0\n",
      "  (805, 2339)\t40.0\n",
      "  (4502, 3513)\t80.0\n",
      "  (6084, 3797)\t80.0\n",
      "  (3512, 3346)\t40.0\n",
      "  (4980, 3652)\t80.0\n",
      "  (3198, 1251)\t40.0\n",
      "  (4712, 1445)\t200.0\n",
      "  (2187, 2224)\t40.0\n",
      "  (1587, 1172)\t40.0\n",
      "  (899, 1998)\t40.0\n",
      "  (4517, 3452)\t80.0\n",
      "  (3141, 1314)\t40.0\n",
      "  (2532, 597)\t40.0\n",
      "  (5316, 3651)\t80.0\n",
      "  (1312, 2527)\t40.0\n",
      "  (5895, 3738)\t120.0\n",
      "  (5340, 3667)\t80.0\n",
      "  (2931, 608)\t40.0\n",
      "  (933, 2346)\t40.0\n",
      "  (1914, 2175)\t40.0\n"
     ]
    }
   ],
   "source": [
    "np.random.seed=2\n",
    "train, test = random_train_test_split(sparse_matrix,\n",
    "                            test_percentage=0.2,\n",
    "                            random_state=np.random.RandomState(4))\n",
    "print(train)\n",
    "print('x')\n",
    "print(test)"
   ]
  },
  {
   "cell_type": "code",
   "execution_count": 76,
   "metadata": {
    "collapsed": false
   },
   "outputs": [
    {
     "name": "stdout",
     "output_type": "stream",
     "text": [
      "Train precision: 0.00\n",
      "Test precision: 0.00\n",
      "[ 0.  0.  0. ...,  0.  0.  0.]\n",
      "68.15395641326904\n"
     ]
    }
   ],
   "source": [
    "#train, test = random_train_test_split(sparse_matrix,\n",
    "#                           test_percentage=0.2,\n",
    "#                            random_state=None)\n",
    "t1=time.time()\n",
    "model = LightFM(loss='warp-kos',no_components=50, item_alpha=100, user_alpha=100)\n",
    "model.fit(train, epochs=10, num_threads=2)\n",
    "# Evaluate the trained model\n",
    "#test_precision = reciprocal_rank(model, test)\n",
    "print(\"Train precision: %.2f\" % precision_at_k(model, test, k=5).mean())\n",
    "print(\"Test precision: %.2f\" % precision_at_k(model, test, k=5).mean())\n",
    "n_users, n_items = train.shape\n",
    "print(model.predict(38, np.arange(n_items)))\n",
    "print(time.time()-t1)"
   ]
  }
 ],
 "metadata": {
  "anaconda-cloud": {},
  "kernelspec": {
   "display_name": "Python 3",
   "language": "python",
   "name": "python3"
  },
  "language_info": {
   "codemirror_mode": {
    "name": "ipython",
    "version": 3
   },
   "file_extension": ".py",
   "mimetype": "text/x-python",
   "name": "python",
   "nbconvert_exporter": "python",
   "pygments_lexer": "ipython3",
   "version": "3.5.2"
  }
 },
 "nbformat": 4,
 "nbformat_minor": 1
}
